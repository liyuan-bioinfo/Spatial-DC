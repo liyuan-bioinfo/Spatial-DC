{
 "cells": [
  {
   "cell_type": "code",
   "execution_count": 1,
   "id": "2e00edab",
   "metadata": {},
   "outputs": [],
   "source": [
    "# Visualization for prediction cell-type composition using Spatial-DC and eight state-of-the-art deconvolution methods\n",
    "# Yuan\n",
    "# 20241119"
   ]
  },
  {
   "cell_type": "code",
   "execution_count": 3,
   "id": "3a72fb77",
   "metadata": {},
   "outputs": [
    {
     "name": "stderr",
     "output_type": "stream",
     "text": [
      "Global seed set to 0\n",
      "2024-11-20 14:49:10.449582: W tensorflow/compiler/tf2tensorrt/utils/py_utils.cc:38] TF-TRT Warning: Could not find TensorRT\n"
     ]
    }
   ],
   "source": [
    "import pandas as pd\n",
    "import numpy as np\n",
    "import anndata as ad\n",
    "import scanpy as sc\n",
    "from scipy.sparse import csr_matrix\n",
    "from scipy.stats import pearsonr,spearmanr\n",
    "from sklearn.metrics import mean_squared_error\n",
    "import matplotlib.pyplot as plt\n",
    "import matplotlib as mat\n",
    "import os\n",
    "import sys\n",
    "from scipy import stats\n",
    "\n",
    "import cell2location\n",
    "import matplotlib.colors as mcolors\n",
    "\n",
    "import warnings\n",
    "from sklearn.preprocessing import MinMaxScaler,StandardScaler\n",
    "warnings.filterwarnings(\"ignore\")\n",
    "\n",
    "plt.rcParams['font.size'] = 10\n",
    "plt.rcParams['pdf.fonttype'] = 42\n",
    "plt.rcParams['ps.fonttype'] = 42\n",
    "\n"
   ]
  },
  {
   "attachments": {},
   "cell_type": "markdown",
   "id": "15340ad1",
   "metadata": {},
   "source": [
    "# Visualization of deconvolution results without noise\n",
    "- Fig. 2c and 2d"
   ]
  },
  {
   "cell_type": "code",
   "execution_count": 18,
   "id": "2727ad05",
   "metadata": {},
   "outputs": [
    {
     "name": "stdout",
     "output_type": "stream",
     "text": [
      "GroundTruth\n",
      "SpatialDC\n",
      "Tangram\n",
      "Cell2location\n",
      "Stereoscope\n",
      "DestVI\n",
      "Seurat\n",
      "SPOTlight\n",
      "SpatialDWLS\n",
      "CARD\n"
     ]
    }
   ],
   "source": [
    "# visualization of spatial maps without noise and windows size 10\n",
    "os.chdir(\"/aaa/zihanwu/yyyli2/project1_spatial_deconv/Manuscript_V20241119/Ablation_study/NSCLC_cond3\")\n",
    "\n",
    "scaler = MinMaxScaler(feature_range=(0, 1))\n",
    "\n",
    "selected_cells = [\"C10\",\"RAW\",\"SVEC\"]\n",
    "methods = [\"GroundTruth\",\"SpatialDC\",\"Tangram\",\"Cell2location\",\"Stereoscope\",\"DestVI\",\"Seurat\",\"SPOTlight\",\"SpatialDWLS\",\"CARD\"]\n",
    "sp_adata = sc.read_h5ad(\"01_data/simulations/synthetic_cellnum_noise_v4/Simu_seed0_cells10_noise0.h5ad\")\n",
    "\n",
    "for i, m in enumerate(methods):\n",
    "    print(m)\n",
    "    if (m == \"SpatialDC\"):\n",
    "        pred_df = pd.read_csv(f\"03_output/exp_conditions_v4/{m}/{m}_reference_noise0_seed0_cells10_noise0_reconstruct.csv\",index_col=0)\n",
    "    elif (m == \"GroundTruth\"):\n",
    "        pred_df = pd.read_csv(f\"01_data/simulations/synthetic_cellnum_noise_v4/Simu_seed0_cells10_noise0_gd.csv\",index_col=0)\n",
    "    else:\n",
    "        pred_df = pd.read_csv(f\"03_output/exp_conditions_v4/{m}/{m}_reference_noise0_seed0_cells10_noise0.csv\",index_col=0)\n",
    "    \n",
    "    sp_adata.obs = pred_df[selected_cells]\n",
    "\n",
    "    pred_df = pd.DataFrame(scaler.fit_transform(sp_adata.obs), columns=sp_adata.obs.columns, index=sp_adata.obs.index)\n",
    "    sp_adata.obs = pred_df\n",
    "\n",
    "    fig = cell2location.plt.plot_spatial(sp_adata, show_img=False, labels=selected_cells,\n",
    "                                          color=selected_cells, circle_diameter=4.5, reorder_cmap=[1,3,2], max_color_quantile=1)\n",
    "\n",
    "    fig.savefig(f\"04_analysis/vis_benchmark/windows10_noise0_{m}_spatial_map.pdf\")\n",
    "    plt.close()\n",
    "    # plt.show()"
   ]
  },
  {
   "cell_type": "code",
   "execution_count": 60,
   "id": "f5795beb",
   "metadata": {},
   "outputs": [],
   "source": [
    "# Fig.2d-f and Fig.S2e, Bar plots of benchmark metrics, involving CCC, RMSE, PCC and RMSE\n",
    "os.chdir(\"/aaa/zihanwu/yyyli2/project1_spatial_deconv/Manuscript_V20241119/Ablation_study/NSCLC_cond3\")\n",
    "\n",
    "method_list = [\"SpatialDC_reconstruct\",\"Tangram\",\"Cell2location\",\"Stereoscope\",\"DestVI\",\"Seurat\",\"SPOTlight\",\"SpatialDWLS\",\"CARD\"]\n",
    "method_for_label = [\"Spatial-DC\",\"Tangram\",\"cell2location\",\"Stereoscope\",\"DestVI\",\"Seurat\",\"SPOTlight\",\"SpatialDWLS\",\"CARD\"] # rename\n",
    "celltype_orders = [\"C10\",\"RAW\",\"SVEC\"]\n",
    "eva_metrics = [\"CCC\",\"RMSE\",\"PCC\",\"SPCC\"]\n",
    "\n",
    "benchmark_df = pd.read_csv(\"04_analysis/cond3_v4_benchmark_cellperc_20241115.csv\", index_col=0)  \n",
    "benchmark_df = benchmark_df[benchmark_df[\"Seed\"] == 0]\n",
    "benchmark_df = benchmark_df[benchmark_df[\"Method\"].isin(method_list)]\n",
    "benchmark_df = benchmark_df[benchmark_df[\"Ref_Noise\"] == 0]\n",
    "benchmark_df = benchmark_df[benchmark_df[\"Cells\"] == 10]\n",
    "benchmark_df = benchmark_df[benchmark_df[\"Noise\"] == 0]\n",
    "benchmark_df = benchmark_df[benchmark_df[\"Cell Type\"].isin(celltype_orders)]\n",
    "# benchmark_df.to_csv(\"04_analysis/vis_benchmark/eva_windows10_noise0_spatial_bar_add_num.csv\") # save to local\n",
    "\n",
    "eva_mean_std_df = benchmark_df.groupby(\"Method\")[eva_metrics].agg(['mean', 'std']).reset_index()  \n",
    "cols = ['Method']\n",
    "for col in eva_metrics:\n",
    "    for eva in ['mean','std']:\n",
    "        cols.append(f'{eva}_{col}')\n",
    "\n",
    "eva_mean_std_df.columns = cols\n",
    " \n",
    "# reset index and reorder  \n",
    "eva_mean_std_df = eva_mean_std_df.set_index('Method').reindex(method_list)  \n",
    "  \n",
    "fig, axs = plt.subplots(nrows=2, ncols=2, figsize=(8, 6), sharey=False)  \n",
    "  \n",
    "for i, metric in enumerate(eva_metrics):  \n",
    "    mean_val = eva_mean_std_df[f'mean_{metric}']  \n",
    "    std_val = eva_mean_std_df[f'std_{metric}']  \n",
    "  \n",
    "    x = np.arange(len(method_list))  \n",
    "    y = round(mean_val, 3)  \n",
    "    yerr = round(std_val, 3)  \n",
    "      \n",
    "    # axs[i//2, i%2].bar(x, y, yerr=yerr, width=0.7, capsize=2, linewidth=0)  \n",
    "    axs[i//2, i%2].bar(x, y, width=0.7, capsize=0, linewidth=0)  \n",
    "    for j in range(len(x)):  \n",
    "        axs[i//2, i%2].text(x=j, y=y[j]+0.01*(1 if max(y) <= 1 else max(y)), s=f'{y[j]:.3f}', ha='center', va='bottom')  \n",
    "  \n",
    "    axs[i//2, i%2].set_title(metric)  \n",
    "    axs[i//2, i%2].set_xticks(x)  \n",
    "    axs[i//2, i%2].set_xticklabels(method_for_label, rotation=90)  \n",
    "    axs[i//2, i%2].set_ylim(top=1)\n",
    "    \n",
    "plt.tight_layout()  \n",
    "# plt.show()\n",
    "fig.savefig(f\"04_analysis/vis_benchmark/eva_windows10_noise0_spatial_bar_add_num.pdf\")"
   ]
  },
  {
   "attachments": {},
   "cell_type": "markdown",
   "id": "5a61c839",
   "metadata": {},
   "source": [
    "# Robust experiment of Spatial-DC and other start-of-the-art methods on NSCLC dataset under varying Gaussian noise and variable proteins\n",
    "- Fig. 2g,h; Fig. S2f,g"
   ]
  },
  {
   "cell_type": "code",
   "execution_count": 34,
   "id": "5896f98b",
   "metadata": {},
   "outputs": [],
   "source": [
    "# run R script to generate the data"
   ]
  }
 ],
 "metadata": {
  "kernelspec": {
   "display_name": "cell2loc_env",
   "language": "python",
   "name": "python3"
  },
  "language_info": {
   "codemirror_mode": {
    "name": "ipython",
    "version": 3
   },
   "file_extension": ".py",
   "mimetype": "text/x-python",
   "name": "python",
   "nbconvert_exporter": "python",
   "pygments_lexer": "ipython3",
   "version": "3.9.16"
  },
  "toc": {
   "base_numbering": 1,
   "nav_menu": {},
   "number_sections": true,
   "sideBar": true,
   "skip_h1_title": false,
   "title_cell": "Table of Contents",
   "title_sidebar": "Contents",
   "toc_cell": false,
   "toc_position": {},
   "toc_section_display": true,
   "toc_window_display": false
  }
 },
 "nbformat": 4,
 "nbformat_minor": 5
}
