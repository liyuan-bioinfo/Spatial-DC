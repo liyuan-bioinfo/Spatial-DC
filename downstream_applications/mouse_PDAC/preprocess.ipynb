{
 "cells": [
  {
   "cell_type": "code",
   "execution_count": null,
   "id": "980fdd14",
   "metadata": {},
   "outputs": [],
   "source": [
    "import pandas as pd\n",
    "import numpy as np\n",
    "import anndata as ad\n",
    "import scanpy as sc\n",
    "from scipy.sparse import csr_matrix\n",
    "from scipy.stats import pearsonr,spearmanr\n",
    "from sklearn.metrics import mean_squared_error\n",
    "import matplotlib.pyplot as plt\n",
    "import matplotlib as mat\n",
    "import os\n",
    "import sys\n",
    "from scipy import stats\n",
    "import warnings\n",
    "from sklearn.preprocessing import MinMaxScaler,StandardScaler\n",
    "from sklearn.cluster import KMeans\n",
    "warnings.filterwarnings(\"ignore\")\n",
    "\n",
    "\n",
    "plt.rcParams['font.size'] = 10\n",
    "plt.rcParams['pdf.fonttype'] = 42\n",
    "plt.rcParams['ps.fonttype'] = 42"
   ]
  },
  {
   "cell_type": "code",
   "execution_count": null,
   "id": "ceb04402",
   "metadata": {},
   "outputs": [],
   "source": [
    "# Keep intersected proteins, for comparison of deconvolution methods\n",
    "os.chdir(\"\")\n",
    "sc_adata = sc.read_h5ad(\"MousePDAC2023_impute_CellType10.h5ad\")\n",
    "sp_adata = sc.read_h5ad(\"MousePDAC2023_impute_Spots108_protein3607.h5ad\")\n",
    "\n",
    "intersected_pid = np.intersect1d(sc_adata.var_names,sp_adata.var_names)\n",
    "print(intersected_pid.shape) # 2837\n",
    "\n",
    "# save for benchmark study\n",
    "sc_adata = sc_adata[:,intersected_pid].copy()\n",
    "sp_adata = sp_adata[:,intersected_pid].copy()\n",
    "\n",
    "del sc_adata.var\n",
    "del sp_adata.var\n",
    "\n",
    "sc_adata.write_h5ad(\"for_benchmark/MousePDAC2023_ct10_2837.h5ad\")\n",
    "sp_adata.write_h5ad(\"for_benchmark/MousePDAC2023_spot108_2837.h5ad\")\n",
    "\n",
    "# # for benchmark \n",
    "sc_adata.to_df().to_csv(\"for_benchmark/MousePDAC2023_ct10_2837_expression.csv\")\n",
    "sc_adata.obs.to_csv(\"for_benchmark/MousePDAC2023_ct10_meta.csv\")\n",
    "sp_adata.to_df().to_csv(\"for_benchmark/MousePDAC2023_spot108_2837_expression.csv\")\n",
    "sp_adata.obs[[\"X\",\"Y\"]].to_csv(\"for_benchmark/MousePDAC2023_spot108_meta.csv\")"
   ]
  }
 ],
 "metadata": {
  "kernelspec": {
   "display_name": "cell2loc_env",
   "language": "python",
   "name": "python3"
  },
  "language_info": {
   "codemirror_mode": {
    "name": "ipython",
    "version": 3
   },
   "file_extension": ".py",
   "mimetype": "text/x-python",
   "name": "python",
   "nbconvert_exporter": "python",
   "pygments_lexer": "ipython3",
   "version": "3.9.16"
  },
  "toc": {
   "base_numbering": 1,
   "nav_menu": {},
   "number_sections": true,
   "sideBar": true,
   "skip_h1_title": false,
   "title_cell": "Table of Contents",
   "title_sidebar": "Contents",
   "toc_cell": false,
   "toc_position": {},
   "toc_section_display": true,
   "toc_window_display": false
  }
 },
 "nbformat": 4,
 "nbformat_minor": 5
}
